{
  "nbformat": 4,
  "nbformat_minor": 0,
  "metadata": {
    "colab": {
      "provenance": [],
      "authorship_tag": "ABX9TyPOwuLenywzx4JyQmNoJ8Pe",
      "include_colab_link": true
    },
    "kernelspec": {
      "name": "python3",
      "display_name": "Python 3"
    },
    "language_info": {
      "name": "python"
    }
  },
  "cells": [
    {
      "cell_type": "markdown",
      "metadata": {
        "id": "view-in-github",
        "colab_type": "text"
      },
      "source": [
        "<a href=\"https://colab.research.google.com/github/DhRiTiD/PRO-C97/blob/main/C97_inclass.ipynb\" target=\"_parent\"><img src=\"https://colab.research.google.com/assets/colab-badge.svg\" alt=\"Open In Colab\"/></a>"
      ]
    },
    {
      "cell_type": "markdown",
      "source": [
        "hii"
      ],
      "metadata": {
        "id": "qbqZ_iwjD1cC"
      }
    },
    {
      "cell_type": "code",
      "execution_count": 11,
      "metadata": {
        "colab": {
          "base_uri": "https://localhost:8080/",
          "height": 0
        },
        "id": "QkDPTnwNDxxP",
        "outputId": "d108c6e3-80e4-4889-b98c-584811b6a9ce"
      },
      "outputs": [
        {
          "output_type": "stream",
          "name": "stdout",
          "text": [
            "HELLO\n",
            "is biggeris bigger\n"
          ]
        }
      ],
      "source": [
        "print('HELLO')\n",
        "var1, var2, var3 = 1, 2, 5\n",
        "if var1>var2 :\n",
        "  print(var1 , 'is bigger')\n",
        "else: \n",
        "  print(var2 * 'is bigger')\n"
      ]
    },
    {
      "cell_type": "code",
      "source": [
        "f_d=7//2\n",
        "print(f_d) \n",
        "d=6/2\n",
        "print(d)"
      ],
      "metadata": {
        "colab": {
          "base_uri": "https://localhost:8080/",
          "height": 0
        },
        "id": "ovZAtu-MF59u",
        "outputId": "78d3c287-d477-4245-ccb9-ce12ec9e1430"
      },
      "execution_count": 20,
      "outputs": [
        {
          "output_type": "stream",
          "name": "stdout",
          "text": [
            "0.0\n",
            "3.0\n"
          ]
        }
      ]
    },
    {
      "cell_type": "code",
      "source": [
        "C=100\n",
        "#C = ((F-32)*5)/9\n",
        "F=32+(9*C)/5\n",
        "print(C)\n",
        "print(F)\n"
      ],
      "metadata": {
        "colab": {
          "base_uri": "https://localhost:8080/"
        },
        "id": "0jh4qvZ-GwdW",
        "outputId": "9a5cb035-1494-4279-d2e3-755a250f154a"
      },
      "execution_count": 22,
      "outputs": [
        {
          "output_type": "stream",
          "name": "stdout",
          "text": [
            "100\n",
            "212.0\n"
          ]
        }
      ]
    },
    {
      "cell_type": "code",
      "source": [
        "def temp_converter(F):\n",
        "  C = ((F-32)*5)/9\n",
        "  return C+5\n",
        "\n",
        "temp_converter(int(input('enter temp in F')))\n",
        " "
      ],
      "metadata": {
        "colab": {
          "base_uri": "https://localhost:8080/"
        },
        "id": "JBdb9MweHoAS",
        "outputId": "f8ce6973-d47c-4e0b-9d94-84b02003fc95"
      },
      "execution_count": 34,
      "outputs": [
        {
          "name": "stdout",
          "output_type": "stream",
          "text": [
            "enter temp in F212\n"
          ]
        },
        {
          "output_type": "execute_result",
          "data": {
            "text/plain": [
              "105.0"
            ]
          },
          "metadata": {},
          "execution_count": 34
        }
      ]
    },
    {
      "cell_type": "code",
      "source": [
        "def calculate(n):\n",
        "  no1=50\n",
        "  no2=10\n",
        "  if n==1:\n",
        "    print(no1+no2)\n",
        "  elif n==2:\n",
        "    print(no1-no2)\n",
        "  else:\n",
        "    print('choice: 1 or 2')\n",
        "\n",
        "calculate(int(input('enter choice (1 or 2)')))\n"
      ],
      "metadata": {
        "colab": {
          "base_uri": "https://localhost:8080/"
        },
        "id": "C5l2OQ9LIkN9",
        "outputId": "743ee631-fc42-41a7-aa0b-9b17a5bad1cf"
      },
      "execution_count": 36,
      "outputs": [
        {
          "output_type": "stream",
          "name": "stdout",
          "text": [
            "enter choice (1 or 2)1\n",
            "60\n"
          ]
        }
      ]
    }
  ]
}