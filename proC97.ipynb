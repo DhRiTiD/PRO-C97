{
  "nbformat": 4,
  "nbformat_minor": 0,
  "metadata": {
    "colab": {
      "provenance": [],
      "authorship_tag": "ABX9TyMWTAVASLUNtQat7k/3WVTs",
      "include_colab_link": true
    },
    "kernelspec": {
      "name": "python3",
      "display_name": "Python 3"
    },
    "language_info": {
      "name": "python"
    }
  },
  "cells": [
    {
      "cell_type": "markdown",
      "metadata": {
        "id": "view-in-github",
        "colab_type": "text"
      },
      "source": [
        "<a href=\"https://colab.research.google.com/github/DhRiTiD/PRO-C97/blob/main/proC97.ipynb\" target=\"_parent\"><img src=\"https://colab.research.google.com/assets/colab-badge.svg\" alt=\"Open In Colab\"/></a>"
      ]
    },
    {
      "cell_type": "code",
      "execution_count": 4,
      "metadata": {
        "colab": {
          "base_uri": "https://localhost:8080/"
        },
        "id": "KR0hJeYxQja3",
        "outputId": "17dc8843-a837-4dc9-cafc-be8d18c940a8"
      },
      "outputs": [
        {
          "output_type": "stream",
          "name": "stdout",
          "text": [
            "enter Year:1500\n",
            "1500 is a leap year\n"
          ]
        }
      ],
      "source": [
        "year=int(input('enter Year:'))\n",
        "if year%4 == 0 and year%100 != 0 or year%400 == 0: #goes line ise so keeping or year%400 == 0 will not do and sys will not consider the next condition IMP\n",
        "  print(year, 'is a leap year')\n",
        "else:\n",
        "  print(year ,'is not a leap year')"
      ]
    },
    {
      "cell_type": "code",
      "source": [
        "cm=float(input('enter height in cm : '))\n",
        "feet = cm*0.0328\n",
        "inc = cm*0.394 \n",
        "\n",
        "print('height in inches: ', round(inc,2), 'in')\n",
        "print('height in feet : ', round(feet,2), 'ft')"
      ],
      "metadata": {
        "colab": {
          "base_uri": "https://localhost:8080/"
        },
        "id": "8VvRTTUSRtTk",
        "outputId": "7aa47c9a-e0e7-4a66-babf-002dba7a18dc"
      },
      "execution_count": 10,
      "outputs": [
        {
          "output_type": "stream",
          "name": "stdout",
          "text": [
            "enter height in cm : 100\n",
            "height in inches:  39.4 in\n",
            "height in feet :  3.28 ft\n"
          ]
        }
      ]
    }
  ]
}
